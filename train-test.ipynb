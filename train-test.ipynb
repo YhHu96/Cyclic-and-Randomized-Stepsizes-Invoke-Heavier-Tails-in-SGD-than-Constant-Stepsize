{
 "cells": [
  {
   "cell_type": "code",
   "execution_count": 2,
   "id": "63c3ccc8",
   "metadata": {},
   "outputs": [],
   "source": [
    "from scipy.stats import levy_stable\n",
    "import numpy as np\n",
    "import torch\n",
    "import math\n",
    "import torch.nn as nn\n",
    "from torch.autograd import Variable\n",
    "from torch.utils.data import DataLoader\n",
    "from torchvision import datasets, transforms\n",
    "import torch.nn.functional as F\n",
    "from torch import optim\n",
    "import os"
   ]
  },
  {
   "cell_type": "code",
   "execution_count": 12,
   "id": "f823120c",
   "metadata": {},
   "outputs": [],
   "source": [
    "PATH_base = './3fcn-MNIST-unif'"
   ]
  },
  {
   "cell_type": "code",
   "execution_count": 13,
   "id": "63683fab",
   "metadata": {},
   "outputs": [],
   "source": [
    "class simpleNet(nn.Module):\n",
    "    def __init__(self):\n",
    "        super().__init__()\n",
    "        self.conv1 = nn.Conv2d(3, 6, 5)\n",
    "        self.pool = nn.MaxPool2d(2, 2)\n",
    "        self.conv2 = nn.Conv2d(6, 16, 5)\n",
    "        self.fc1 = nn.Linear(16 * 5 * 5, 120)\n",
    "        self.fc2 = nn.Linear(120, 84)\n",
    "        self.fc3 = nn.Linear(84, 10)\n",
    "\n",
    "    def forward(self, x):\n",
    "        x = self.pool(F.relu(self.conv1(x)))\n",
    "        x = self.pool(F.relu(self.conv2(x)))\n",
    "        x = torch.flatten(x, 1) # flatten all dimensions except batch\n",
    "        x = F.relu(self.fc1(x))\n",
    "        x = F.relu(self.fc2(x))\n",
    "        x = self.fc3(x)\n",
    "        return x"
   ]
  },
  {
   "cell_type": "code",
   "execution_count": 14,
   "id": "997d325c",
   "metadata": {},
   "outputs": [
    {
     "name": "stdout",
     "output_type": "stream",
     "text": [
      "Files already downloaded and verified\n",
      "Files already downloaded and verified\n"
     ]
    }
   ],
   "source": [
    "batch_size= 100\n",
    "transform = transforms.Compose(\n",
    "    [transforms.ToTensor(),\n",
    "     transforms.Normalize((0.5, 0.5, 0.5), (0.5, 0.5, 0.5))])\n",
    "trainset = datasets.CIFAR10(root='./data', train=True,\n",
    "                                        download=True, transform=transform)\n",
    "train_loader = DataLoader(trainset, batch_size=batch_size,\n",
    "                                          shuffle=True, num_workers=2)\n",
    "\n",
    "testset = datasets.CIFAR10(root='./data', train=False,\n",
    "                                       download=True, transform=transform)\n",
    "test_loader = DataLoader(testset, batch_size=batch_size,\n",
    "                                         shuffle=False, num_workers=2)\n",
    "\n",
    "nodes = 1\n",
    "criterion = nn.CrossEntropyLoss()"
   ]
  },
  {
   "cell_type": "code",
   "execution_count": 15,
   "id": "a7a11bcf",
   "metadata": {},
   "outputs": [
    {
     "name": "stdout",
     "output_type": "stream",
     "text": [
      "0\n",
      "0\n",
      "1\n",
      "2\n",
      "3\n",
      "4\n",
      "5\n",
      "6\n",
      "7\n",
      "0\n",
      "0\n",
      "1\n",
      "2\n",
      "3\n",
      "4\n",
      "5\n",
      "6\n",
      "7\n"
     ]
    }
   ],
   "source": [
    "# uniform lr\n",
    "lr_list = [0.05,0.06,0.07,0.08,0.09,0.1,0.11,0.12]\n",
    "train_accuracy = []\n",
    "train_error = []\n",
    "for node in range(nodes):\n",
    "    tmp_err = []\n",
    "    tmp_acc = []\n",
    "    print(node)\n",
    "    for i in range(len(lr_list)):\n",
    "        PATH = PATH_base + '/LR' + '{}'.format(i)\n",
    "        # tmp_path_mod = PATH  + '/node' +'{}'.format(node)+ '/model-1' +'.pth'\n",
    "        tmp_path_mod = PATH  + '/model1000' +'.pth'\n",
    "        # tmp_path_mod = PATH + '/model900' +'.pth'\n",
    "        tmp_net = torch.load(tmp_path_mod,map_location='cpu')\n",
    "        test_acc = 0\n",
    "        error = 0\n",
    "        for data in train_loader:\n",
    "            img, label = data\n",
    "            # img=img.view(img.size(0),-1)\n",
    "            img = Variable(img)\n",
    "            label = Variable(label)\n",
    "            out = tmp_net(img)\n",
    "            loss = criterion(out, label)\n",
    "            error += loss.data.item()\n",
    "            _, pred = torch.max(out.data, 1)\n",
    "            test_acc += pred.eq(label.view_as(pred)).sum().item()\n",
    "        tmp_err.append(error/50000)\n",
    "        tmp_acc.append(test_acc/50000)\n",
    "        print(i)\n",
    "    train_error.append(tmp_err)\n",
    "    train_accuracy.append(tmp_acc)\n",
    "\n",
    "test_accuracy = []\n",
    "test_error = []\n",
    "for node in range(nodes):\n",
    "    tmp_acc = []\n",
    "    tmp_err = []\n",
    "    print(node)\n",
    "    for i in range(len(lr_list)):\n",
    "        PATH = PATH_base + '/LR' + '{}'.format(i)\n",
    "        # tmp_path_mod = PATH  + '/node' +'{}'.format(node)+ '/model-1' +'.pth'\n",
    "        tmp_path_mod = PATH  + '/model1000' +'.pth'\n",
    "        # tmp_path_mod = PATH + '/model900' +'.pth'\n",
    "        tmp_net = torch.load(tmp_path_mod,map_location='cpu')\n",
    "        test_acc = 0\n",
    "        error = 0\n",
    "        for data in test_loader:\n",
    "            img, label = data\n",
    "            # img=img.view(img.size(0),-1)\n",
    "            img = Variable(img)\n",
    "            label = Variable(label)\n",
    "            out = tmp_net(img)\n",
    "            loss = criterion(out, label)\n",
    "            error += loss.data.item()\n",
    "            _, pred = torch.max(out.data, 1)\n",
    "            test_acc += pred.eq(label.view_as(pred)).sum().item()\n",
    "        tmp_acc.append(test_acc/10000)\n",
    "        tmp_err.append(error/10000)\n",
    "        print(i)\n",
    "    test_error.append(tmp_err)\n",
    "    test_accuracy.append(tmp_acc)"
   ]
  },
  {
   "cell_type": "code",
   "execution_count": null,
   "id": "f3c6ceef",
   "metadata": {},
   "outputs": [],
   "source": []
  }
 ],
 "metadata": {
  "kernelspec": {
   "display_name": "Python 3 (ipykernel)",
   "language": "python",
   "name": "python3"
  },
  "language_info": {
   "codemirror_mode": {
    "name": "ipython",
    "version": 3
   },
   "file_extension": ".py",
   "mimetype": "text/x-python",
   "name": "python",
   "nbconvert_exporter": "python",
   "pygments_lexer": "ipython3",
   "version": "3.10.12"
  }
 },
 "nbformat": 4,
 "nbformat_minor": 5
}
