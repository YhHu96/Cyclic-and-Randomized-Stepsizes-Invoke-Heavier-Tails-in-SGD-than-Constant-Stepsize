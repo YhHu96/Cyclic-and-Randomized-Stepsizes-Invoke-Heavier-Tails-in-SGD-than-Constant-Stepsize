{
 "cells": [
  {
   "cell_type": "code",
   "execution_count": 1,
   "id": "827bba02",
   "metadata": {},
   "outputs": [],
   "source": [
    "import numpy as np\n",
    "\n",
    "import multiprocessing as mp"
   ]
  },
  {
   "cell_type": "code",
   "execution_count": 2,
   "id": "3c41f7bc",
   "metadata": {},
   "outputs": [],
   "source": [
    "# def alpha_estimator(m, X):\n",
    "#     N = len(X)\n",
    "#     n = int(N/m) # must be an integer\n",
    "#     Y = np.sum(X.reshape(n, m),1)\n",
    "#     eps = np.spacing(1)\n",
    "\n",
    "#     Y_log_norm =  np.log(np.abs(Y) + eps).mean()\n",
    "#     X_log_norm =  np.log(np.abs(X) + eps).mean()\n",
    "#     diff = (Y_log_norm - X_log_norm) / np.log(m)\n",
    "#     return 1 / diff\n",
    "\n",
    "# def hill_estimator(X,k):\n",
    "#     X = np.log(np.abs(X)) #assuming symmetric\n",
    "#     Xs = np.sort(X)\n",
    "#     term1 = np.mean(Xs[-(k+1):])\n",
    "#     term2 = Xs[k]\n",
    "#     return 1/(term1-term2)"
   ]
  },
  {
   "cell_type": "code",
   "execution_count": 3,
   "id": "c9f048d4",
   "metadata": {},
   "outputs": [],
   "source": [
    "# Corollary 2.4 in Mohammadi 2014 - for multi-d\n",
    "def alpha_estimator(m, X):\n",
    "    # X is N by d matrix\n",
    "    N = len(X)\n",
    "    n = int(N/m) # must be an integer\n",
    "    Y = np.sum(X.reshape((n, m, -1)), 1)\n",
    "    eps = np.spacing(1)\n",
    "    Y_log_norm = np.log(np.linalg.norm(Y, axis=1) + eps).mean()\n",
    "    X_log_norm = np.log(np.linalg.norm(X, axis=1) + eps).mean()\n",
    "    diff = (Y_log_norm - X_log_norm) / np.log(m)\n",
    "    return 1/diff"
   ]
  },
  {
   "cell_type": "code",
   "execution_count": 4,
   "id": "f2f4b819",
   "metadata": {},
   "outputs": [],
   "source": [
    "# number of data points\n",
    "n = 10000\n",
    "# dimension of x\n",
    "d = 100\n",
    "# batch size\n",
    "batch = 10\n",
    "\n",
    "sig_w = 3\n",
    "sig_x = 1\n",
    "sig_y = 3\n",
    "\n",
    "# std_noise = 3\n",
    "w = np.random.normal(0,3,d)\n",
    "# w = sig_w * np.random.randn(d,1)\n",
    "X = sig_x * np.random.randn(n,d)\n",
    "Y = X@w.reshape(-1,1) + sig_y * np.random.randn(n,1)"
   ]
  },
  {
   "cell_type": "code",
   "execution_count": 47,
   "id": "7afb0849",
   "metadata": {},
   "outputs": [
    {
     "data": {
      "text/plain": [
       "(10000, 1)"
      ]
     },
     "execution_count": 47,
     "metadata": {},
     "output_type": "execute_result"
    }
   ],
   "source": [
    "Y.shape"
   ]
  },
  {
   "cell_type": "code",
   "execution_count": 24,
   "id": "dd3f7588",
   "metadata": {},
   "outputs": [
    {
     "data": {
      "text/plain": [
       "(10,)"
      ]
     },
     "execution_count": 24,
     "metadata": {},
     "output_type": "execute_result"
    }
   ],
   "source": [
    "(np.dot(Xk,w0)).shape"
   ]
  },
  {
   "cell_type": "code",
   "execution_count": 20,
   "id": "8fe13410",
   "metadata": {},
   "outputs": [
    {
     "data": {
      "text/plain": [
       "array([[1553.28688832, 1599.83429978, 1552.4751576 , 1653.06332266,\n",
       "        1608.00416658, 1413.40637158, 1441.95281649, 1348.91756913,\n",
       "        1668.96388044, 1545.73517396]])"
      ]
     },
     "execution_count": 20,
     "metadata": {},
     "output_type": "execute_result"
    }
   ],
   "source": [
    "np.dot(np.transpose(Xk), (Yk-np.dot(Xk,w0)))"
   ]
  },
  {
   "cell_type": "code",
   "execution_count": 5,
   "id": "c401c1af",
   "metadata": {},
   "outputs": [],
   "source": [
    "def loss_batch(w,X,Y,batch):\n",
    "    idx = np.random.randint(Y.shape[0], size = batch)\n",
    "    X1 = X[idx,:]\n",
    "    Y1 = Y[idx,:]\n",
    "    loss = np.sum(np.square(X1@w -Y1))/(2*batch)\n",
    "    return loss\n",
    "\n",
    "def loss(w,X,Y):\n",
    "    loss = np.sum(np.square(np.dot(X,w) -Y))/(2*X.shape[0])\n",
    "    return loss\n",
    "\n",
    "def linearreg(d,X,Y,K,stepsize,batch,w_star):\n",
    "    loss_list = []\n",
    "    w_list = []\n",
    "    \n",
    "    w0 = np.random.uniform(-3,3,d)\n",
    "    w_list.append(w0)\n",
    "    loss_list.append(loss_batch(w0,X,Y,batch))\n",
    "    \n",
    "    for k in range(K):\n",
    "        \n",
    "        idx = np.random.randint(Y.shape[0], size = batch)\n",
    "        Xk = X[idx,:]\n",
    "        Yk = Y[idx,:]\n",
    "        w = w_list[-1].reshape(-1,1) - stepsize / batch * (Xk.T @ (Xk @ w_list[-1].reshape(-1,1) - Yk))\n",
    "        w_list.append(w.reshape(-1))\n",
    "        \n",
    "        loss_list.append(loss_batch(w,X,Y,batch))\n",
    "        \n",
    "    w_list = np.array(w_list)\n",
    "    loss_list = np.array(loss_list)\n",
    "    \n",
    "    w_mean = np.mean(w_list[-500:], axis = 0)\n",
    "    \n",
    "    return w_mean\n",
    "\n",
    "def linearreg_unif(d,X,Y,K,base_lr,max_lr,batch,w_star):\n",
    "    loss_list = []\n",
    "    w_list = []\n",
    "    \n",
    "    w0 =np.random.uniform(-3,3,d)\n",
    "    w_list.append(w0)\n",
    "    loss_list.append(loss_batch(w0,X,Y,batch))\n",
    "    \n",
    "    for k in range(K):\n",
    "        \n",
    "        stepsize = np.random.uniform(low=base_lr, high=max_lr)\n",
    "        idx = np.random.randint(Y.shape[0], size = batch)\n",
    "        Xk = X[idx,:]\n",
    "        Yk = Y[idx,:]\n",
    "#         temp = Xk @ w_list[-1].reshape(-1,1) - Yk\n",
    "#         temp = Xk.T @ temp\n",
    "#         print(temp.shape)\n",
    "        \n",
    "        w = w_list[-1].reshape(-1,1) - stepsize / batch * (Xk.T @ (Xk @ w_list[-1].reshape(-1,1) - Yk))\n",
    "#         print((Xk @ w_list[-1].reshape(-1,1) )shape)\n",
    "        w_list.append(w.reshape(-1))\n",
    "        \n",
    "        loss_list.append(loss_batch(w,X,Y,batch))\n",
    "        \n",
    "    w_list = np.array(w_list)\n",
    "    loss_list = np.array(loss_list)\n",
    "    \n",
    "    w_mean = np.mean(w_list[-500:], axis = 0)\n",
    "    w_final = w_list[-1] - w_star\n",
    "    \n",
    "    return w_mean, w_final, loss_list\n",
    "\n",
    "def linearreg_cyc(d,X,Y,K,base_lr,max_lr,stepsize,batch,w_star):\n",
    "    loss_list = []\n",
    "    w_list = []\n",
    "    \n",
    "    w0 =np.random.uniform(-3,3,d)\n",
    "    w_list.append(w0)\n",
    "    loss_list.append(loss_batch(w0,X,Y,batch))\n",
    "    \n",
    "    for k in range(K):\n",
    "        \n",
    "        cycle = np.floor(1 + (k+1) / (2*stepsize))\n",
    "        loc = np.abs((k+1) / stepsize - 2*cycle +1)\n",
    "        lr = base_lr + (max_lr - base_lr) * max(0,(1-loc))\n",
    "        \n",
    "        idx = np.random.randint(Y.shape[0], size = batch)\n",
    "        Xk = X[idx,:]\n",
    "        Yk = Y[idx,:]\n",
    "        w = w_list[-1].reshape(-1,1) - stepsize / batch * (Xk.T @ (Xk @ w_list[-1].reshape(-1,1) - Yk))\n",
    "        w_list.append(w.reshape(-1))\n",
    "        \n",
    "        loss_list.append(loss_batch(w,X,Y,batch))\n",
    "        \n",
    "    w_list = np.array(w_list)\n",
    "    loss_list = np.array(loss_list)\n",
    "    \n",
    "    w_mean = np.mean(w_list[-500:], axis = 0)\n",
    "    w_final = w_list[-1] - w_star\n",
    "    \n",
    "    return w_mean, w_final\n",
    "\n",
    "def linearreg_mc(d,X,Y,K,base_lr,max_lr,p,stepsize,batch,w_star):\n",
    "    loss_list = []\n",
    "    w_list = []\n",
    "    \n",
    "    onestep = (max_lr-base_lr)/stepsize\n",
    "    \n",
    "    w0 = np.random.uniform(-3,3,d)\n",
    "    w_list.append(w0)\n",
    "    loss_list.append(loss_batch(w0,X,Y,batch))\n",
    "#     lr_list=[]\n",
    "    \n",
    "    for k in range(K):\n",
    "        \n",
    "        if k == 0:\n",
    "            lr = base_lr\n",
    "        elif k == 1:\n",
    "            lr = base_lr + onestep\n",
    "        else:\n",
    "            if lr <= base_lr:\n",
    "                p = max(p, 1-p)\n",
    "                lr = base_lr + onestep\n",
    "            elif lr >= max_lr:\n",
    "                p = min(p,1-p)\n",
    "                lr = max_lr - onestep\n",
    "            else:\n",
    "                temp = np.random.uniform(0,1)\n",
    "                if temp <= p:\n",
    "                    lr = min(max_lr, lr+onestep)\n",
    "                else:\n",
    "                    lr = max(base_lr, lr-onestep)\n",
    "#         lr_list.append(lr)\n",
    "        idx = np.random.randint(Y.shape[0], size = batch)\n",
    "        Xk = X[idx,:]\n",
    "        Yk = Y[idx,:]\n",
    "        w = w_list[-1].reshape(-1,1) - stepsize / batch * (Xk.T @ (Xk @ w_list[-1].reshape(-1,1) - Yk))\n",
    "        w_list.append(w.reshape(-1))\n",
    "        \n",
    "        loss_list.append(loss_batch(w,X,Y,batch))\n",
    "        \n",
    "    w_list = np.array(w_list)\n",
    "    loss_list = np.array(loss_list)\n",
    "    \n",
    "    w_mean = np.mean(w_list[-500:], axis = 0)\n",
    "    w_final = w_list[-1] - w_star\n",
    "    \n",
    "    return w_mean, w_final#, lr_list\n",
    "\n",
    "def ideal_sol(X,Y):\n",
    "    temp = np.dot(np.transpose(X), X)\n",
    "    temp = np.linalg.inv(temp)\n",
    "    temp = np.dot(temp, np.transpose(X))\n",
    "    temp = np.dot(temp, Y)\n",
    "    return temp"
   ]
  },
  {
   "cell_type": "code",
   "execution_count": 6,
   "id": "d493c98f",
   "metadata": {},
   "outputs": [],
   "source": [
    "# unif lr\n",
    "\n",
    "d = 100\n",
    "K = 1000\n",
    "T = 10000\n",
    "mean_lr = [0.14,0.15,0.16,0.17,0.18,0.19,0.2,0.21,0.22]\n",
    "# mean_lr = [0.14]\n",
    "delta = 0.05\n",
    "# base_lr =[ 0.01]\n",
    "# max_lr = 0.03\n",
    "batch = 15\n",
    "alpha_list = []\n",
    "w_star = ideal_sol(X,Y)\n",
    "\n",
    "# pool = mp.Pool(mp.cpu_count())\n",
    "\n",
    "for mean in mean_lr:\n",
    "    random_vec = []\n",
    "    \n",
    "    for t in range(T):\n",
    "        diff,_,_ = linearreg_unif(d, X, Y, K, mean - delta, mean + delta, batch, w_star)\n",
    "#         diff = w - w_star\n",
    "        random_vec.append(diff)\n",
    "#         diff_list.append(diff)\n",
    "    \n",
    "#     random_vec = [pool.apply(linearreg_unif, args=(1,X,Y,K,base,max_lr,batch,w_star)) for t in range(T)]\n",
    "    \n",
    "    \n",
    "    random_vec = np.array(random_vec)\n",
    "    data = np.array(random_vec - np.mean(random_vec, axis = 0))\n",
    "    alpha_list.append(alpha_estimator(100,data))\n",
    "    \n",
    "# pool.close()"
   ]
  },
  {
   "cell_type": "markdown",
   "id": "a7998043",
   "metadata": {},
   "source": [
    "### Batch = 10"
   ]
  },
  {
   "cell_type": "code",
   "execution_count": 97,
   "id": "0566b664",
   "metadata": {},
   "outputs": [
    {
     "data": {
      "text/plain": [
       "[1.9992081559596,\n",
       " 2.0058759615058332,\n",
       " 1.9966414023637025,\n",
       " 1.9888339310322185,\n",
       " 1.3223480616710073,\n",
       " 1.1545610117347485,\n",
       " 1.0441591429818526,\n",
       " 0.9973064473474609,\n",
       " 0.9672450767340022]"
      ]
     },
     "execution_count": 97,
     "metadata": {},
     "output_type": "execute_result"
    }
   ],
   "source": [
    "# delta = 0.05\n",
    "alpha_list"
   ]
  },
  {
   "cell_type": "code",
   "execution_count": 8,
   "id": "278f866a",
   "metadata": {},
   "outputs": [
    {
     "data": {
      "text/plain": [
       "[1.9980193521187706,\n",
       " 1.994331313377948,\n",
       " 2.008449962798776,\n",
       " 1.9844368268515886,\n",
       " 1.489800381785496,\n",
       " 1.2522119658060922,\n",
       " 1.127180064050747,\n",
       " 1.0632379306684896,\n",
       " 1.0201058997358983]"
      ]
     },
     "execution_count": 8,
     "metadata": {},
     "output_type": "execute_result"
    }
   ],
   "source": [
    "# delta = 0.04\n",
    "alpha_list"
   ]
  },
  {
   "cell_type": "code",
   "execution_count": 10,
   "id": "dc7b2038",
   "metadata": {},
   "outputs": [
    {
     "data": {
      "text/plain": [
       "[2.011808171891638,\n",
       " 2.006497365754277,\n",
       " 2.002973731131015,\n",
       " 2.0011681103124825,\n",
       " 1.6433117890744189,\n",
       " 1.3396652156058708,\n",
       " 1.2336902234418194,\n",
       " 1.1191617514907952,\n",
       " 1.0423329315758816]"
      ]
     },
     "execution_count": 10,
     "metadata": {},
     "output_type": "execute_result"
    }
   ],
   "source": [
    "# delta = 0.03\n",
    "alpha_list"
   ]
  },
  {
   "cell_type": "code",
   "execution_count": 12,
   "id": "bc542ef5",
   "metadata": {},
   "outputs": [
    {
     "data": {
      "text/plain": [
       "[2.001870966800299,\n",
       " 1.9957802846557626,\n",
       " 2.0084541341950914,\n",
       " 1.9965154018900835,\n",
       " 1.7738066631121632,\n",
       " 1.4228938197647925,\n",
       " 1.2755673483361696,\n",
       " 1.1941087136869475,\n",
       " 1.1101158020743571]"
      ]
     },
     "execution_count": 12,
     "metadata": {},
     "output_type": "execute_result"
    }
   ],
   "source": [
    "# delta = 0.02\n",
    "alpha_list"
   ]
  },
  {
   "cell_type": "markdown",
   "id": "5e0d21c0",
   "metadata": {},
   "source": [
    "### batch = 5"
   ]
  },
  {
   "cell_type": "code",
   "execution_count": 6,
   "id": "9cb9e1f2",
   "metadata": {},
   "outputs": [
    {
     "data": {
      "text/plain": [
       "[0.9700783413836138,\n",
       " 0.9546597864680119,\n",
       " 0.904544079410688,\n",
       " 0.9231340212818335,\n",
       " 0.8954111632952743,\n",
       " 0.9378181614711333,\n",
       " 0.9890537042756602,\n",
       " 0.9670302823223297,\n",
       " 0.8527419243938376]"
      ]
     },
     "execution_count": 6,
     "metadata": {},
     "output_type": "execute_result"
    }
   ],
   "source": [
    "# delta = 0.05\n",
    "alpha_list"
   ]
  },
  {
   "cell_type": "code",
   "execution_count": 8,
   "id": "7974849c",
   "metadata": {},
   "outputs": [
    {
     "data": {
      "text/plain": [
       "[0.9406916867568116,\n",
       " 0.9847450270828545,\n",
       " 0.9905103254191518,\n",
       " 0.9881511133465686,\n",
       " nan,\n",
       " nan,\n",
       " nan,\n",
       " nan,\n",
       " nan]"
      ]
     },
     "execution_count": 8,
     "metadata": {},
     "output_type": "execute_result"
    }
   ],
   "source": [
    "# delta = 0.05\n",
    "# batch = 2\n",
    "alpha_list"
   ]
  },
  {
   "cell_type": "code",
   "execution_count": 10,
   "id": "1e18d30d",
   "metadata": {},
   "outputs": [
    {
     "data": {
      "text/plain": [
       "[1.1729687493617813,\n",
       " 1.0627197325762983,\n",
       " 0.9984367321277543,\n",
       " 0.9345199413471473,\n",
       " 0.8842244827446193,\n",
       " 0.9158282678401728,\n",
       " 0.9370418156715172,\n",
       " 0.9239248803386607,\n",
       " 0.9450177261304024]"
      ]
     },
     "execution_count": 10,
     "metadata": {},
     "output_type": "execute_result"
    }
   ],
   "source": [
    "# delta = 0.05\n",
    "# batch = 7\n",
    "alpha_list"
   ]
  },
  {
   "cell_type": "code",
   "execution_count": 7,
   "id": "afe7714b",
   "metadata": {},
   "outputs": [
    {
     "data": {
      "text/plain": [
       "[1.9978611534191966,\n",
       " 2.0044053084263735,\n",
       " 2.000695085810468,\n",
       " 1.9991325974971241,\n",
       " 2.0009896611850366,\n",
       " 1.9985937372848606,\n",
       " 2.008359144185032,\n",
       " 2.002451931712333,\n",
       " 2.0086479940508997]"
      ]
     },
     "execution_count": 7,
     "metadata": {},
     "output_type": "execute_result"
    }
   ],
   "source": [
    "# delta = 0.05\n",
    "# batch = 15\n",
    "alpha_list"
   ]
  },
  {
   "cell_type": "code",
   "execution_count": null,
   "id": "4f4c620c",
   "metadata": {},
   "outputs": [],
   "source": []
  }
 ],
 "metadata": {
  "kernelspec": {
   "display_name": "Python 3 (ipykernel)",
   "language": "python",
   "name": "python3"
  },
  "language_info": {
   "codemirror_mode": {
    "name": "ipython",
    "version": 3
   },
   "file_extension": ".py",
   "mimetype": "text/x-python",
   "name": "python",
   "nbconvert_exporter": "python",
   "pygments_lexer": "ipython3",
   "version": "3.10.12"
  }
 },
 "nbformat": 4,
 "nbformat_minor": 5
}
