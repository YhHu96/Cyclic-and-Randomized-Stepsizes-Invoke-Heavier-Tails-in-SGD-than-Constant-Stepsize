{
 "cells": [
  {
   "cell_type": "code",
   "execution_count": 11,
   "id": "2b5a7ebb",
   "metadata": {},
   "outputs": [],
   "source": [
    "import numpy as np\n",
    "import torch\n",
    "import math\n",
    "import torch.nn as nn\n",
    "from torch.autograd import Variable\n",
    "from torch.utils.data import DataLoader\n",
    "from torchvision import datasets, transforms\n",
    "import torch.nn.functional as F\n",
    "from torch import optim\n",
    "import os"
   ]
  },
  {
   "cell_type": "code",
   "execution_count": 12,
   "id": "88adbccd",
   "metadata": {},
   "outputs": [],
   "source": [
    "PATH_base = './VGG-CIFAR10-const-umut'"
   ]
  },
  {
   "cell_type": "code",
   "execution_count": 13,
   "id": "ff7aeaaf",
   "metadata": {},
   "outputs": [],
   "source": [
    "'''VGG11/13/16/19 in Pytorch.'''\n",
    "import torch\n",
    "import torch.nn as nn\n",
    "\n",
    "\n",
    "cfg = {\n",
    "    'VGG11': [64, 'M', 128, 'M', 256, 256, 'M', 512, 512, 'M', 512, 512, 'M'],\n",
    "    'VGG13': [64, 64, 'M', 128, 128, 'M', 256, 256, 'M', 512, 512, 'M', 512, 512, 'M'],\n",
    "    'VGG16': [64, 64, 'M', 128, 128, 'M', 256, 256, 256, 'M', 512, 512, 512, 'M', 512, 512, 512, 'M'],\n",
    "    'VGG19': [64, 64, 'M', 128, 128, 'M', 256, 256, 256, 256, 'M', 512, 512, 512, 512, 'M', 512, 512, 512, 512, 'M'],\n",
    "}\n",
    "\n",
    "\n",
    "class VGG(nn.Module):\n",
    "    def __init__(self, vgg_name):\n",
    "        super(VGG, self).__init__()\n",
    "        self.features = self._make_layers(cfg[vgg_name])\n",
    "        self.classifier = nn.Linear(512, 10)\n",
    "\n",
    "    def forward(self, x):\n",
    "        out = self.features(x)\n",
    "        out = out.view(out.size(0), -1)\n",
    "        out = self.classifier(out)\n",
    "        return out\n",
    "\n",
    "    def _make_layers(self, cfg):\n",
    "        layers = []\n",
    "        in_channels = 3\n",
    "        for x in cfg:\n",
    "            if x == 'M':\n",
    "                layers += [nn.MaxPool2d(kernel_size=2, stride=2)]\n",
    "            else:\n",
    "                layers += [nn.Conv2d(in_channels, x, kernel_size=3, padding=1),\n",
    "                           nn.BatchNorm2d(x),\n",
    "                           nn.ReLU(inplace=True)]\n",
    "                in_channels = x\n",
    "        layers += [nn.AvgPool2d(kernel_size=1, stride=1)]\n",
    "        return nn.Sequential(*layers)\n",
    "\n",
    "\n",
    "def test():\n",
    "    net = VGG('VGG11')\n",
    "    x = torch.randn(2,3,32,32)\n",
    "    y = net(x)\n",
    "    print(y.size())\n",
    "\n",
    "# test()"
   ]
  },
  {
   "cell_type": "code",
   "execution_count": 14,
   "id": "60f266da",
   "metadata": {},
   "outputs": [
    {
     "name": "stdout",
     "output_type": "stream",
     "text": [
      "Files already downloaded and verified\n",
      "Files already downloaded and verified\n"
     ]
    }
   ],
   "source": [
    "batch_size= 10\n",
    "transform = transforms.Compose(\n",
    "    [transforms.ToTensor(),\n",
    "     transforms.Normalize((0.5, 0.5, 0.5), (0.5, 0.5, 0.5))])\n",
    "trainset = datasets.CIFAR10(root='./data', train=True,\n",
    "                                        download=True, transform=transform)\n",
    "train_loader = DataLoader(trainset, batch_size=batch_size,\n",
    "                                          shuffle=True, num_workers=2)\n",
    "\n",
    "testset = datasets.CIFAR10(root='./data', train=False,\n",
    "                                       download=True, transform=transform)\n",
    "test_loader = DataLoader(testset, batch_size=batch_size,\n",
    "                                         shuffle=False, num_workers=2)\n",
    "\n",
    "lr_list = [0.005, 0.01, 0.015, 0.02]\n",
    "# lr_list = [0.02]\n",
    "criterion = nn.CrossEntropyLoss()\n",
    "nodes = 1"
   ]
  },
  {
   "cell_type": "code",
   "execution_count": 15,
   "id": "632fa58b",
   "metadata": {},
   "outputs": [
    {
     "name": "stdout",
     "output_type": "stream",
     "text": [
      "0\n",
      "0\n",
      "1\n",
      "2\n",
      "3\n",
      "0\n",
      "0\n",
      "1\n",
      "2\n",
      "3\n"
     ]
    }
   ],
   "source": [
    "# const lr\n",
    "PATH_base = './VGG-CIFAR10-const-umut'\n",
    "\n",
    "lr_list = [0.005, 0.01, 0.015, 0.02]\n",
    "train_accuracy = []\n",
    "train_error = []\n",
    "for node in range(nodes):\n",
    "    tmp_err = []\n",
    "    tmp_acc = []\n",
    "    print(node)\n",
    "    for i in range(len(lr_list)):\n",
    "        PATH = PATH_base + '/LR' + '{}'.format(i)\n",
    "        # tmp_path_mod = PATH  + '/node' +'{}'.format(node)+ '/model-1' +'.pth'\n",
    "        tmp_path_mod = PATH  + '/model100' +'.pth'\n",
    "        # tmp_path_mod = PATH + '/model900' +'.pth'\n",
    "        tmp_net = torch.load(tmp_path_mod,map_location='cpu')\n",
    "        test_acc = 0\n",
    "        error = 0\n",
    "        for data in train_loader:\n",
    "            img, label = data\n",
    "            # img=img.view(img.size(0),-1)\n",
    "            img = Variable(img)\n",
    "            label = Variable(label)\n",
    "            out = tmp_net(img)\n",
    "            loss = criterion(out, label)\n",
    "            error += loss.data.item()\n",
    "            _, pred = torch.max(out.data, 1)\n",
    "            test_acc += pred.eq(label.view_as(pred)).sum().item()\n",
    "        tmp_err.append(error/50000)\n",
    "        tmp_acc.append(test_acc/50000)\n",
    "        print(i)\n",
    "    train_error.append(tmp_err)\n",
    "    train_accuracy.append(tmp_acc)\n",
    "\n",
    "test_accuracy = []\n",
    "test_error = []\n",
    "for node in range(nodes):\n",
    "    tmp_acc = []\n",
    "    tmp_err = []\n",
    "    print(node)\n",
    "    for i in range(len(lr_list)):\n",
    "        PATH = PATH_base + '/LR' + '{}'.format(i)\n",
    "        # tmp_path_mod = PATH  + '/node' +'{}'.format(node)+ '/model-1' +'.pth'\n",
    "        tmp_path_mod = PATH  + '/model100' +'.pth'\n",
    "        # tmp_path_mod = PATH + '/model900' +'.pth'\n",
    "        tmp_net = torch.load(tmp_path_mod,map_location='cpu')\n",
    "        test_acc = 0\n",
    "        error = 0\n",
    "        for data in test_loader:\n",
    "            img, label = data\n",
    "            # img=img.view(img.size(0),-1)\n",
    "            img = Variable(img)\n",
    "            label = Variable(label)\n",
    "            out = tmp_net(img)\n",
    "            loss = criterion(out, label)\n",
    "            error += loss.data.item()\n",
    "            _, pred = torch.max(out.data, 1)\n",
    "            test_acc += pred.eq(label.view_as(pred)).sum().item()\n",
    "        tmp_acc.append(test_acc/10000)\n",
    "        tmp_err.append(error/10000)\n",
    "        print(i)\n",
    "    test_error.append(tmp_err)\n",
    "    test_accuracy.append(tmp_acc)"
   ]
  },
  {
   "cell_type": "code",
   "execution_count": 16,
   "id": "a1e2982b",
   "metadata": {},
   "outputs": [],
   "source": [
    "np.save('vgg-const-train-acc', train_accuracy)\n",
    "np.save('vgg-const-test-acc', test_accuracy)\n",
    "np.save('vgg-const-train-err', train_error)\n",
    "np.save('vgg-const-test-err', test_error)"
   ]
  },
  {
   "cell_type": "code",
   "execution_count": 17,
   "id": "21feff33",
   "metadata": {},
   "outputs": [
    {
     "name": "stdout",
     "output_type": "stream",
     "text": [
      "0\n",
      "0\n",
      "1\n",
      "2\n",
      "3\n",
      "0\n",
      "0\n",
      "1\n",
      "2\n",
      "3\n"
     ]
    }
   ],
   "source": [
    "# cyclic lr\n",
    "PATH_base = './VGG-CIFAR10-cyclic-umut'\n",
    "\n",
    "lr_list = [0.005, 0.01, 0.015, 0.02]\n",
    "train_accuracy = []\n",
    "train_error = []\n",
    "for node in range(nodes):\n",
    "    tmp_err = []\n",
    "    tmp_acc = []\n",
    "    print(node)\n",
    "    for i in range(len(lr_list)):\n",
    "        PATH = PATH_base + '/LR' + '{}'.format(i)\n",
    "        # tmp_path_mod = PATH  + '/node' +'{}'.format(node)+ '/model-1' +'.pth'\n",
    "        tmp_path_mod = PATH  + '/model100' +'.pth'\n",
    "        # tmp_path_mod = PATH + '/model900' +'.pth'\n",
    "        tmp_net = torch.load(tmp_path_mod,map_location='cpu')\n",
    "        test_acc = 0\n",
    "        error = 0\n",
    "        for data in train_loader:\n",
    "            img, label = data\n",
    "            # img=img.view(img.size(0),-1)\n",
    "            img = Variable(img)\n",
    "            label = Variable(label)\n",
    "            out = tmp_net(img)\n",
    "            loss = criterion(out, label)\n",
    "            error += loss.data.item()\n",
    "            _, pred = torch.max(out.data, 1)\n",
    "            test_acc += pred.eq(label.view_as(pred)).sum().item()\n",
    "        tmp_err.append(error/50000)\n",
    "        tmp_acc.append(test_acc/50000)\n",
    "        print(i)\n",
    "    train_error.append(tmp_err)\n",
    "    train_accuracy.append(tmp_acc)\n",
    "\n",
    "test_accuracy = []\n",
    "test_error = []\n",
    "for node in range(nodes):\n",
    "    tmp_acc = []\n",
    "    tmp_err = []\n",
    "    print(node)\n",
    "    for i in range(len(lr_list)):\n",
    "        PATH = PATH_base + '/LR' + '{}'.format(i)\n",
    "        # tmp_path_mod = PATH  + '/node' +'{}'.format(node)+ '/model-1' +'.pth'\n",
    "        tmp_path_mod = PATH  + '/model100' +'.pth'\n",
    "        # tmp_path_mod = PATH + '/model900' +'.pth'\n",
    "        tmp_net = torch.load(tmp_path_mod,map_location='cpu')\n",
    "        test_acc = 0\n",
    "        error = 0\n",
    "        for data in test_loader:\n",
    "            img, label = data\n",
    "            # img=img.view(img.size(0),-1)\n",
    "            img = Variable(img)\n",
    "            label = Variable(label)\n",
    "            out = tmp_net(img)\n",
    "            loss = criterion(out, label)\n",
    "            error += loss.data.item()\n",
    "            _, pred = torch.max(out.data, 1)\n",
    "            test_acc += pred.eq(label.view_as(pred)).sum().item()\n",
    "        tmp_acc.append(test_acc/10000)\n",
    "        tmp_err.append(error/10000)\n",
    "        print(i)\n",
    "    test_error.append(tmp_err)\n",
    "    test_accuracy.append(tmp_acc)"
   ]
  },
  {
   "cell_type": "code",
   "execution_count": 18,
   "id": "7943abc0",
   "metadata": {},
   "outputs": [],
   "source": [
    "np.save('vgg-cyclic-train-acc', train_accuracy)\n",
    "np.save('vgg-cyclic-test-acc', test_accuracy)\n",
    "np.save('vgg-cyclic-train-err', train_error)\n",
    "np.save('vgg-cyclic-test-err', test_error)"
   ]
  },
  {
   "cell_type": "code",
   "execution_count": 19,
   "id": "f88af7af",
   "metadata": {},
   "outputs": [
    {
     "name": "stdout",
     "output_type": "stream",
     "text": [
      "0\n",
      "0\n",
      "1\n",
      "2\n",
      "3\n",
      "0\n",
      "0\n",
      "1\n",
      "2\n",
      "3\n"
     ]
    }
   ],
   "source": [
    "# uniform lr\n",
    "PATH_base = './VGG-CIFAR10-unif-umut'\n",
    "\n",
    "lr_list = [0.005, 0.01, 0.015, 0.02]\n",
    "train_accuracy = []\n",
    "train_error = []\n",
    "for node in range(nodes):\n",
    "    tmp_err = []\n",
    "    tmp_acc = []\n",
    "    print(node)\n",
    "    for i in range(len(lr_list)):\n",
    "        PATH = PATH_base + '/LR' + '{}'.format(i)\n",
    "        # tmp_path_mod = PATH  + '/node' +'{}'.format(node)+ '/model-1' +'.pth'\n",
    "        tmp_path_mod = PATH  + '/model100' +'.pth'\n",
    "        # tmp_path_mod = PATH + '/model900' +'.pth'\n",
    "        tmp_net = torch.load(tmp_path_mod,map_location='cpu')\n",
    "        test_acc = 0\n",
    "        error = 0\n",
    "        for data in train_loader:\n",
    "            img, label = data\n",
    "            # img=img.view(img.size(0),-1)\n",
    "            img = Variable(img)\n",
    "            label = Variable(label)\n",
    "            out = tmp_net(img)\n",
    "            loss = criterion(out, label)\n",
    "            error += loss.data.item()\n",
    "            _, pred = torch.max(out.data, 1)\n",
    "            test_acc += pred.eq(label.view_as(pred)).sum().item()\n",
    "        tmp_err.append(error/50000)\n",
    "        tmp_acc.append(test_acc/50000)\n",
    "        print(i)\n",
    "    train_error.append(tmp_err)\n",
    "    train_accuracy.append(tmp_acc)\n",
    "\n",
    "test_accuracy = []\n",
    "test_error = []\n",
    "for node in range(nodes):\n",
    "    tmp_acc = []\n",
    "    tmp_err = []\n",
    "    print(node)\n",
    "    for i in range(len(lr_list)):\n",
    "        PATH = PATH_base + '/LR' + '{}'.format(i)\n",
    "        # tmp_path_mod = PATH  + '/node' +'{}'.format(node)+ '/model-1' +'.pth'\n",
    "        tmp_path_mod = PATH  + '/model100' +'.pth'\n",
    "        # tmp_path_mod = PATH + '/model900' +'.pth'\n",
    "        tmp_net = torch.load(tmp_path_mod,map_location='cpu')\n",
    "        test_acc = 0\n",
    "        error = 0\n",
    "        for data in test_loader:\n",
    "            img, label = data\n",
    "            # img=img.view(img.size(0),-1)\n",
    "            img = Variable(img)\n",
    "            label = Variable(label)\n",
    "            out = tmp_net(img)\n",
    "            loss = criterion(out, label)\n",
    "            error += loss.data.item()\n",
    "            _, pred = torch.max(out.data, 1)\n",
    "            test_acc += pred.eq(label.view_as(pred)).sum().item()\n",
    "        tmp_acc.append(test_acc/10000)\n",
    "        tmp_err.append(error/10000)\n",
    "        print(i)\n",
    "    test_error.append(tmp_err)\n",
    "    test_accuracy.append(tmp_acc)"
   ]
  },
  {
   "cell_type": "code",
   "execution_count": 20,
   "id": "c1a2a556",
   "metadata": {},
   "outputs": [],
   "source": [
    "np.save('vgg-unif-train-acc', train_accuracy)\n",
    "np.save('vgg-unif-test-acc', test_accuracy)\n",
    "np.save('vgg-unif-train-err', train_error)\n",
    "np.save('vgg-unif-test-err', test_error)"
   ]
  },
  {
   "cell_type": "code",
   "execution_count": 21,
   "id": "bf9d6e2b",
   "metadata": {},
   "outputs": [
    {
     "name": "stdout",
     "output_type": "stream",
     "text": [
      "0\n",
      "0\n",
      "1\n",
      "2\n",
      "3\n",
      "0\n",
      "0\n",
      "1\n",
      "2\n",
      "3\n"
     ]
    }
   ],
   "source": [
    "# mc lr\n",
    "PATH_base = './VGG-CIFAR10-mc-umut'\n",
    "\n",
    "lr_list = [0.005, 0.01, 0.015, 0.02]\n",
    "train_accuracy = []\n",
    "train_error = []\n",
    "for node in range(nodes):\n",
    "    tmp_err = []\n",
    "    tmp_acc = []\n",
    "    print(node)\n",
    "    for i in range(len(lr_list)):\n",
    "        PATH = PATH_base + '/LR' + '{}'.format(i)\n",
    "        # tmp_path_mod = PATH  + '/node' +'{}'.format(node)+ '/model-1' +'.pth'\n",
    "        tmp_path_mod = PATH  + '/model100' +'.pth'\n",
    "        # tmp_path_mod = PATH + '/model900' +'.pth'\n",
    "        tmp_net = torch.load(tmp_path_mod,map_location='cpu')\n",
    "        test_acc = 0\n",
    "        error = 0\n",
    "        for data in train_loader:\n",
    "            img, label = data\n",
    "            # img=img.view(img.size(0),-1)\n",
    "            img = Variable(img)\n",
    "            label = Variable(label)\n",
    "            out = tmp_net(img)\n",
    "            loss = criterion(out, label)\n",
    "            error += loss.data.item()\n",
    "            _, pred = torch.max(out.data, 1)\n",
    "            test_acc += pred.eq(label.view_as(pred)).sum().item()\n",
    "        tmp_err.append(error/50000)\n",
    "        tmp_acc.append(test_acc/50000)\n",
    "        print(i)\n",
    "    train_error.append(tmp_err)\n",
    "    train_accuracy.append(tmp_acc)\n",
    "\n",
    "test_accuracy = []\n",
    "test_error = []\n",
    "for node in range(nodes):\n",
    "    tmp_acc = []\n",
    "    tmp_err = []\n",
    "    print(node)\n",
    "    for i in range(len(lr_list)):\n",
    "        PATH = PATH_base + '/LR' + '{}'.format(i)\n",
    "        # tmp_path_mod = PATH  + '/node' +'{}'.format(node)+ '/model-1' +'.pth'\n",
    "        tmp_path_mod = PATH  + '/model100' +'.pth'\n",
    "        # tmp_path_mod = PATH + '/model900' +'.pth'\n",
    "        tmp_net = torch.load(tmp_path_mod,map_location='cpu')\n",
    "        test_acc = 0\n",
    "        error = 0\n",
    "        for data in test_loader:\n",
    "            img, label = data\n",
    "            # img=img.view(img.size(0),-1)\n",
    "            img = Variable(img)\n",
    "            label = Variable(label)\n",
    "            out = tmp_net(img)\n",
    "            loss = criterion(out, label)\n",
    "            error += loss.data.item()\n",
    "            _, pred = torch.max(out.data, 1)\n",
    "            test_acc += pred.eq(label.view_as(pred)).sum().item()\n",
    "        tmp_acc.append(test_acc/10000)\n",
    "        tmp_err.append(error/10000)\n",
    "        print(i)\n",
    "    test_error.append(tmp_err)\n",
    "    test_accuracy.append(tmp_acc)"
   ]
  },
  {
   "cell_type": "code",
   "execution_count": 22,
   "id": "19fce19c",
   "metadata": {},
   "outputs": [],
   "source": [
    "np.save('vgg-mc-train-acc', train_accuracy)\n",
    "np.save('vgg-mc-test-acc', test_accuracy)\n",
    "np.save('vgg-mc-train-err', train_error)\n",
    "np.save('vgg-mc-test-err', test_error)"
   ]
  },
  {
   "cell_type": "code",
   "execution_count": 28,
   "id": "dd75bdfe",
   "metadata": {},
   "outputs": [
    {
     "data": {
      "text/plain": [
       "[[0.010773289799690246,\n",
       "  0.011110515737533569,\n",
       "  0.011131219869852067,\n",
       "  0.011102753084897995,\n",
       "  0.011646000272035599,\n",
       "  0.0118322182148695,\n",
       "  0.011595230954885483,\n",
       "  0.012870685708522797]]"
      ]
     },
     "execution_count": 28,
     "metadata": {},
     "output_type": "execute_result"
    }
   ],
   "source": [
    "test_error"
   ]
  },
  {
   "cell_type": "code",
   "execution_count": 29,
   "id": "5a706f97",
   "metadata": {},
   "outputs": [
    {
     "data": {
      "text/plain": [
       "[[0.8414, 0.8452, 0.8498, 0.8482, 0.8461, 0.8505, 0.8513, 0.8457]]"
      ]
     },
     "execution_count": 29,
     "metadata": {},
     "output_type": "execute_result"
    }
   ],
   "source": [
    "test_accuracy"
   ]
  },
  {
   "cell_type": "code",
   "execution_count": 25,
   "id": "19bc9225",
   "metadata": {},
   "outputs": [
    {
     "data": {
      "text/plain": [
       "array([[0.99996, 1.     , 0.99878, 0.99422]])"
      ]
     },
     "execution_count": 25,
     "metadata": {},
     "output_type": "execute_result"
    }
   ],
   "source": [
    "train_acc = np.load(\"vgg-mc-train-acc.npy\")\n",
    "train_acc"
   ]
  },
  {
   "cell_type": "code",
   "execution_count": null,
   "id": "5d590a3e",
   "metadata": {},
   "outputs": [],
   "source": []
  }
 ],
 "metadata": {
  "kernelspec": {
   "display_name": "Python 3 (ipykernel)",
   "language": "python",
   "name": "python3"
  },
  "language_info": {
   "codemirror_mode": {
    "name": "ipython",
    "version": 3
   },
   "file_extension": ".py",
   "mimetype": "text/x-python",
   "name": "python",
   "nbconvert_exporter": "python",
   "pygments_lexer": "ipython3",
   "version": "3.11.4"
  }
 },
 "nbformat": 4,
 "nbformat_minor": 5
}
