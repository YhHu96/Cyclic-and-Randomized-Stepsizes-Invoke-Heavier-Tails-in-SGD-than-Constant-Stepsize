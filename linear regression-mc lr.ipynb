{
 "cells": [
  {
   "cell_type": "code",
   "execution_count": 1,
   "id": "50b3a588",
   "metadata": {},
   "outputs": [],
   "source": [
    "import numpy as np\n",
    "\n",
    "import multiprocessing as mp"
   ]
  },
  {
   "cell_type": "code",
   "execution_count": 2,
   "id": "79f9fac0",
   "metadata": {},
   "outputs": [],
   "source": [
    "# def alpha_estimator(m, X):\n",
    "#     N = len(X)\n",
    "#     n = int(N/m) # must be an integer\n",
    "#     Y = np.sum(X.reshape(n, m),1)\n",
    "#     eps = np.spacing(1)\n",
    "\n",
    "#     Y_log_norm =  np.log(np.abs(Y) + eps).mean()\n",
    "#     X_log_norm =  np.log(np.abs(X) + eps).mean()\n",
    "#     diff = (Y_log_norm - X_log_norm) / np.log(m)\n",
    "#     return 1 / diff\n",
    "\n",
    "# def hill_estimator(X,k):\n",
    "#     X = np.log(np.abs(X)) #assuming symmetric\n",
    "#     Xs = np.sort(X)\n",
    "#     term1 = np.mean(Xs[-(k+1):])\n",
    "#     term2 = Xs[k]\n",
    "#     return 1/(term1-term2)"
   ]
  },
  {
   "cell_type": "code",
   "execution_count": 2,
   "id": "03746364",
   "metadata": {},
   "outputs": [],
   "source": [
    "# Corollary 2.4 in Mohammadi 2014 - for multi-d\n",
    "def alpha_estimator(m, X):\n",
    "    # X is N by d matrix\n",
    "    N = len(X)\n",
    "    n = int(N/m) # must be an integer\n",
    "    Y = np.sum(X.reshape((n, m, -1)), 1)\n",
    "    eps = np.spacing(1)\n",
    "    Y_log_norm = np.log(np.linalg.norm(Y, axis=1) + eps).mean()\n",
    "    X_log_norm = np.log(np.linalg.norm(X, axis=1) + eps).mean()\n",
    "    diff = (Y_log_norm - X_log_norm) / np.log(m)\n",
    "    return 1/diff"
   ]
  },
  {
   "cell_type": "code",
   "execution_count": 3,
   "id": "2d471f51",
   "metadata": {},
   "outputs": [],
   "source": [
    "# number of data points\n",
    "n = 10000\n",
    "# dimension of x\n",
    "d = 100\n",
    "# batch size\n",
    "batch = 10\n",
    "\n",
    "sig_w = 3\n",
    "sig_x = 1\n",
    "sig_y = 3\n",
    "\n",
    "# std_noise = 3\n",
    "w = np.random.normal(0,3,d)\n",
    "# w = sig_w * np.random.randn(d,1)\n",
    "X = sig_x * np.random.randn(n,d)\n",
    "Y = X@w.reshape(-1,1) + sig_y * np.random.randn(n,1)"
   ]
  },
  {
   "cell_type": "code",
   "execution_count": 5,
   "id": "abe86905",
   "metadata": {},
   "outputs": [
    {
     "data": {
      "text/plain": [
       "array([[0.49913832]])"
      ]
     },
     "execution_count": 5,
     "metadata": {},
     "output_type": "execute_result"
    }
   ],
   "source": [
    "w"
   ]
  },
  {
   "cell_type": "code",
   "execution_count": 24,
   "id": "9eaa98cc",
   "metadata": {},
   "outputs": [
    {
     "data": {
      "text/plain": [
       "(10,)"
      ]
     },
     "execution_count": 24,
     "metadata": {},
     "output_type": "execute_result"
    }
   ],
   "source": [
    "(np.dot(Xk,w0)).shape"
   ]
  },
  {
   "cell_type": "code",
   "execution_count": 20,
   "id": "bfb60011",
   "metadata": {},
   "outputs": [
    {
     "data": {
      "text/plain": [
       "array([[1553.28688832, 1599.83429978, 1552.4751576 , 1653.06332266,\n",
       "        1608.00416658, 1413.40637158, 1441.95281649, 1348.91756913,\n",
       "        1668.96388044, 1545.73517396]])"
      ]
     },
     "execution_count": 20,
     "metadata": {},
     "output_type": "execute_result"
    }
   ],
   "source": [
    "np.dot(np.transpose(Xk), (Yk-np.dot(Xk,w0)))"
   ]
  },
  {
   "cell_type": "code",
   "execution_count": 4,
   "id": "4a1e8312",
   "metadata": {},
   "outputs": [],
   "source": [
    "def loss_batch(w,X,Y,batch):\n",
    "    idx = np.random.randint(Y.shape[0], size = batch)\n",
    "    X1 = X[idx,:]\n",
    "    Y1 = Y[idx,:]\n",
    "    loss = np.sum(np.square(X1@w -Y1))/(2*batch)\n",
    "    return loss\n",
    "\n",
    "def loss(w,X,Y):\n",
    "    loss = np.sum(np.square(np.dot(X,w) -Y))/(2*X.shape[0])\n",
    "    return loss\n",
    "\n",
    "def linearreg(d,X,Y,K,stepsize,batch,w_star):\n",
    "    loss_list = []\n",
    "    w_list = []\n",
    "    \n",
    "    w0 = np.random.uniform(-3,3,d)\n",
    "    w_list.append(w0)\n",
    "    loss_list.append(loss_batch(w0,X,Y,batch))\n",
    "    \n",
    "    for k in range(K):\n",
    "        \n",
    "        idx = np.random.randint(Y.shape[0], size = batch)\n",
    "        Xk = X[idx,:]\n",
    "        Yk = Y[idx,:]\n",
    "        w = w_list[-1].reshape(-1,1) - stepsize / batch * (Xk.T @ (Xk @ w_list[-1].reshape(-1,1) - Yk))\n",
    "        w_list.append(w.reshape(-1))\n",
    "        \n",
    "        loss_list.append(loss_batch(w,X,Y,batch))\n",
    "        \n",
    "    w_list = np.array(w_list)\n",
    "    loss_list = np.array(loss_list)\n",
    "    \n",
    "    w_mean = np.mean(w_list[-500:], axis = 0)\n",
    "    \n",
    "    return w_mean\n",
    "\n",
    "def linearreg_unif(d,X,Y,K,base_lr,max_lr,batch,w_star):\n",
    "    loss_list = []\n",
    "    w_list = []\n",
    "    \n",
    "    w0 =np.random.uniform(-3,3,d)\n",
    "    w_list.append(w0)\n",
    "    loss_list.append(loss_batch(w0,X,Y,batch))\n",
    "    \n",
    "    for k in range(K):\n",
    "        \n",
    "        stepsize = np.random.uniform(low=base_lr, high=max_lr)\n",
    "        idx = np.random.randint(Y.shape[0], size = batch)\n",
    "        Xk = X[idx,:]\n",
    "        Yk = Y[idx,:]\n",
    "#         temp = Xk @ w_list[-1].reshape(-1,1) - Yk\n",
    "#         temp = Xk.T @ temp\n",
    "#         print(temp.shape)\n",
    "        \n",
    "        w = w_list[-1].reshape(-1,1) - stepsize / batch * (Xk.T @ (Xk @ w_list[-1].reshape(-1,1) - Yk))\n",
    "#         print((Xk @ w_list[-1].reshape(-1,1) )shape)\n",
    "        w_list.append(w.reshape(-1))\n",
    "        \n",
    "        loss_list.append(loss_batch(w,X,Y,batch))\n",
    "        \n",
    "    w_list = np.array(w_list)\n",
    "    loss_list = np.array(loss_list)\n",
    "    \n",
    "    w_mean = np.mean(w_list[-500:], axis = 0)\n",
    "    w_final = w_list[-1] - w_star\n",
    "    \n",
    "    return w_mean, w_final, loss_list\n",
    "\n",
    "def linearreg_cyc(d,X,Y,K,base_lr,max_lr,stepsize,batch,w_star):\n",
    "    loss_list = []\n",
    "    w_list = []\n",
    "    \n",
    "    w0 =np.random.uniform(-3,3,d)\n",
    "    w_list.append(w0)\n",
    "    loss_list.append(loss_batch(w0,X,Y,batch))\n",
    "    \n",
    "    for k in range(K):\n",
    "        \n",
    "        cycle = np.floor(1 + (k+1) / (2*stepsize))\n",
    "        loc = np.abs((k+1) / stepsize - 2*cycle +1)\n",
    "        lr = base_lr + (max_lr - base_lr) * max(0,(1-loc))\n",
    "        \n",
    "        idx = np.random.randint(Y.shape[0], size = batch)\n",
    "        Xk = X[idx,:]\n",
    "        Yk = Y[idx,:]\n",
    "        w = w_list[-1].reshape(-1,1) - lr / batch * (Xk.T @ (Xk @ w_list[-1].reshape(-1,1) - Yk))\n",
    "        w_list.append(w.reshape(-1))\n",
    "        \n",
    "        loss_list.append(loss_batch(w,X,Y,batch))\n",
    "        \n",
    "    w_list = np.array(w_list)\n",
    "    loss_list = np.array(loss_list)\n",
    "    \n",
    "    w_mean = np.mean(w_list[-500:], axis = 0)\n",
    "    w_final = w_list[-1] - w_star\n",
    "    \n",
    "    return w_mean, w_final\n",
    "\n",
    "def linearreg_mc(d,X,Y,K,base_lr,max_lr,p,stepsize,batch,w_star):\n",
    "    loss_list = []\n",
    "    w_list = []\n",
    "    \n",
    "    onestep = (max_lr-base_lr)/stepsize\n",
    "    \n",
    "    w0 = np.random.uniform(-3,3,d)\n",
    "    w_list.append(w0)\n",
    "    loss_list.append(loss_batch(w0,X,Y,batch))\n",
    "#     lr_list=[]\n",
    "    \n",
    "    for k in range(K):\n",
    "        \n",
    "        if k == 0:\n",
    "            lr = base_lr\n",
    "        elif k == 1:\n",
    "            lr = base_lr + onestep\n",
    "        else:\n",
    "            if lr <= base_lr:\n",
    "                p = max(p, 1-p)\n",
    "                lr = base_lr + onestep\n",
    "            elif lr >= max_lr:\n",
    "                p = min(p,1-p)\n",
    "                lr = max_lr - onestep\n",
    "            else:\n",
    "                temp = np.random.uniform(0,1)\n",
    "                if temp <= p:\n",
    "                    lr = min(max_lr, lr+onestep)\n",
    "                else:\n",
    "                    lr = max(base_lr, lr-onestep)\n",
    "#         lr_list.append(lr)\n",
    "        idx = np.random.randint(Y.shape[0], size = batch)\n",
    "        Xk = X[idx,:]\n",
    "        Yk = Y[idx,:]\n",
    "        w = w_list[-1].reshape(-1,1) - lr / batch * (Xk.T @ (Xk @ w_list[-1].reshape(-1,1) - Yk))\n",
    "        w_list.append(w.reshape(-1))\n",
    "        \n",
    "        loss_list.append(loss_batch(w,X,Y,batch))\n",
    "        \n",
    "    w_list = np.array(w_list)\n",
    "    loss_list = np.array(loss_list)\n",
    "    \n",
    "    w_mean = np.mean(w_list[-500:], axis = 0)\n",
    "    w_final = w_list[-1] - w_star\n",
    "    \n",
    "    return w_mean, w_final#, lr_list\n",
    "\n",
    "def ideal_sol(X,Y):\n",
    "    temp = np.dot(np.transpose(X), X)\n",
    "    temp = np.linalg.inv(temp)\n",
    "    temp = np.dot(temp, np.transpose(X))\n",
    "    temp = np.dot(temp, Y)\n",
    "    return temp"
   ]
  },
  {
   "cell_type": "code",
   "execution_count": 17,
   "id": "9d1d9615",
   "metadata": {},
   "outputs": [],
   "source": [
    "# mc lr\n",
    "\n",
    "d = 100\n",
    "K = 1000\n",
    "T = 10000\n",
    "mean_lr = [0.14,0.15,0.16,0.17,0.18,0.19,0.2,0.21,0.22]\n",
    "delta = 0.05\n",
    "stepsize = 10\n",
    "p = 1\n",
    "batch = 10\n",
    "alpha_list = []\n",
    "w_star = ideal_sol(X,Y)\n",
    "\n",
    "# pool = mp.Pool(mp.cpu_count())\n",
    "\n",
    "for mean in mean_lr:\n",
    "    random_vec = []\n",
    "    \n",
    "    for t in range(T):\n",
    "        diff,_ = linearreg_mc(d, X, Y, K, mean - delta, mean + delta, p, stepsize, batch, w_star)\n",
    "#         diff = w - w_star\n",
    "        random_vec.append(diff)\n",
    "#         diff_list.append(diff)\n",
    "    \n",
    "#     random_vec = [pool.apply(linearreg_unif, args=(1,X,Y,K,base,max_lr,batch,w_star)) for t in range(T)]\n",
    "    \n",
    "    random_vec = np.array(random_vec)\n",
    "    data = np.array(random_vec - np.mean(random_vec, axis = 0))\n",
    "    alpha_list.append(alpha_estimator(100,data))\n",
    "    \n",
    "# pool.close()"
   ]
  },
  {
   "cell_type": "markdown",
   "id": "1eba0002",
   "metadata": {},
   "source": [
    "### batch = 10"
   ]
  },
  {
   "cell_type": "code",
   "execution_count": 6,
   "id": "094e6b54",
   "metadata": {},
   "outputs": [
    {
     "data": {
      "text/plain": [
       "[2.002046524425199,\n",
       " 1.9993057626601152,\n",
       " 1.9646224357506248,\n",
       " 1.6161651157544217,\n",
       " 0.9808721745312605,\n",
       " 0.9275423196270094,\n",
       " 0.89077630510346,\n",
       " 0.9537082539371149,\n",
       " 0.9743876057367452]"
      ]
     },
     "execution_count": 6,
     "metadata": {},
     "output_type": "execute_result"
    }
   ],
   "source": [
    "# delta = 0.05\n",
    "# p = 0.6\n",
    "alpha_list"
   ]
  },
  {
   "cell_type": "code",
   "execution_count": 8,
   "id": "0c844467",
   "metadata": {},
   "outputs": [
    {
     "data": {
      "text/plain": [
       "[2.0007898223421674,\n",
       " 2.000237518445299,\n",
       " 1.9994715103487886,\n",
       " 1.9382541932994244,\n",
       " 1.1038531609750617,\n",
       " 0.9636895094139215,\n",
       " 0.934419566904034,\n",
       " 0.882088120021222,\n",
       " 0.8904309171594724]"
      ]
     },
     "execution_count": 8,
     "metadata": {},
     "output_type": "execute_result"
    }
   ],
   "source": [
    "# delta = 0.05\n",
    "# p = 0.7\n",
    "alpha_list"
   ]
  },
  {
   "cell_type": "code",
   "execution_count": 10,
   "id": "fbaf9efc",
   "metadata": {},
   "outputs": [
    {
     "data": {
      "text/plain": [
       "[2.0028777798052273,\n",
       " 2.0004219028047263,\n",
       " 2.00488114900863,\n",
       " 1.9671666000156018,\n",
       " 1.3004634159557238,\n",
       " 1.1203209246048824,\n",
       " 1.0430041412949023,\n",
       " 1.0003540553962178,\n",
       " 0.9552239239958898]"
      ]
     },
     "execution_count": 10,
     "metadata": {},
     "output_type": "execute_result"
    }
   ],
   "source": [
    "# delta = 0.05\n",
    "# p = 0.8\n",
    "alpha_list"
   ]
  },
  {
   "cell_type": "code",
   "execution_count": 12,
   "id": "ee3fe33d",
   "metadata": {},
   "outputs": [
    {
     "data": {
      "text/plain": [
       "[2.008836816792085,\n",
       " 1.9960944117571662,\n",
       " 1.9959043202512452,\n",
       " 1.9938772348723002,\n",
       " 1.428781234786798,\n",
       " 1.2512188228467234,\n",
       " 1.1523493881097504,\n",
       " 1.0739715564066543,\n",
       " 1.036683940882398]"
      ]
     },
     "execution_count": 12,
     "metadata": {},
     "output_type": "execute_result"
    }
   ],
   "source": [
    "# delta = 0.05\n",
    "# p = 0.9\n",
    "alpha_list"
   ]
  },
  {
   "cell_type": "markdown",
   "id": "4d0fbbb4",
   "metadata": {},
   "source": [
    "### P = 0.6"
   ]
  },
  {
   "cell_type": "code",
   "execution_count": 14,
   "id": "b134ead2",
   "metadata": {},
   "outputs": [
    {
     "data": {
      "text/plain": [
       "[2.003700207690419,\n",
       " 1.9900085141581865,\n",
       " 2.0001431910110257,\n",
       " 1.9076964829958,\n",
       " 1.0093872016052483,\n",
       " 0.9076954382106143,\n",
       " 0.9462614555706806,\n",
       " 0.840042709143689,\n",
       " 0.8789562301814527]"
      ]
     },
     "execution_count": 14,
     "metadata": {},
     "output_type": "execute_result"
    }
   ],
   "source": [
    "# delta = 0.04\n",
    "# p = 0.6\n",
    "alpha_list"
   ]
  },
  {
   "cell_type": "code",
   "execution_count": 7,
   "id": "b799a8c4",
   "metadata": {},
   "outputs": [
    {
     "data": {
      "text/plain": [
       "[2.007280386000215,\n",
       " 1.9939633787725872,\n",
       " 1.9955746841220696,\n",
       " 1.97388027583118,\n",
       " 1.2914704606043201,\n",
       " 1.0102961431068678,\n",
       " 0.9508711819200671,\n",
       " 0.9437380010007425,\n",
       " 0.9507508789632385]"
      ]
     },
     "execution_count": 7,
     "metadata": {},
     "output_type": "execute_result"
    }
   ],
   "source": [
    "# delta = 0.03\n",
    "# p = 0.6\n",
    "alpha_list"
   ]
  },
  {
   "cell_type": "code",
   "execution_count": 9,
   "id": "077fa9d3",
   "metadata": {},
   "outputs": [
    {
     "data": {
      "text/plain": [
       "[2.0047487984136514,\n",
       " 2.0059994843976887,\n",
       " 1.997108063889702,\n",
       " 2.0056116939510145,\n",
       " 1.5831318591564758,\n",
       " 1.1827401448809856,\n",
       " 1.0605788271248406,\n",
       " 1.0247408290307496,\n",
       " 0.9611613405087753]"
      ]
     },
     "execution_count": 9,
     "metadata": {},
     "output_type": "execute_result"
    }
   ],
   "source": [
    "# delta = 0.02\n",
    "# p = 0.6\n",
    "alpha_list"
   ]
  },
  {
   "cell_type": "markdown",
   "id": "1dd34c72",
   "metadata": {},
   "source": [
    "### batch = 5"
   ]
  },
  {
   "cell_type": "code",
   "execution_count": 11,
   "id": "5da23045",
   "metadata": {},
   "outputs": [
    {
     "data": {
      "text/plain": [
       "[0.9264896909148191,\n",
       " 0.9621836353446682,\n",
       " 0.9506348937605029,\n",
       " 0.9761174946713548,\n",
       " 0.9695425538228692,\n",
       " 0.9609424562589681,\n",
       " 0.9673843419640878,\n",
       " 0.954107313506329,\n",
       " 0.9746761937722437]"
      ]
     },
     "execution_count": 11,
     "metadata": {},
     "output_type": "execute_result"
    }
   ],
   "source": [
    "# delta = 0.05\n",
    "# p = 0.6\n",
    "alpha_list"
   ]
  },
  {
   "cell_type": "code",
   "execution_count": 13,
   "id": "4e197b32",
   "metadata": {},
   "outputs": [
    {
     "data": {
      "text/plain": [
       "[0.9818790857260454,\n",
       " 0.9882371450191456,\n",
       " 0.9672782542201056,\n",
       " nan,\n",
       " nan,\n",
       " nan,\n",
       " nan,\n",
       " nan,\n",
       " nan]"
      ]
     },
     "execution_count": 13,
     "metadata": {},
     "output_type": "execute_result"
    }
   ],
   "source": [
    "# delta = 0.05\n",
    "# p = 0.6\n",
    "# batch = 2\n",
    "alpha_list"
   ]
  },
  {
   "cell_type": "code",
   "execution_count": 15,
   "id": "6759c1bf",
   "metadata": {},
   "outputs": [
    {
     "data": {
      "text/plain": [
       "[0.9042221668623771,\n",
       " 0.8700888403966642,\n",
       " 0.8933334380405398,\n",
       " 0.957506602964338,\n",
       " 0.895328100433898,\n",
       " 0.9705782762630675,\n",
       " 0.9462830725163469,\n",
       " 0.9663269689546208,\n",
       " 0.930257797257412]"
      ]
     },
     "execution_count": 15,
     "metadata": {},
     "output_type": "execute_result"
    }
   ],
   "source": [
    "# delta = 0.05\n",
    "# p = 0.6\n",
    "# batch = 7\n",
    "alpha_list"
   ]
  },
  {
   "cell_type": "code",
   "execution_count": 7,
   "id": "ff8541cc",
   "metadata": {},
   "outputs": [
    {
     "data": {
      "text/plain": [
       "[2.0035171846882553,\n",
       " 2.0135258646059153,\n",
       " 2.0063125438309637,\n",
       " 2.013460499228646,\n",
       " 2.0012637555100925,\n",
       " 2.0003798761587923,\n",
       " 1.9981436627871332,\n",
       " 1.9998216614799522,\n",
       " 2.002280135675251]"
      ]
     },
     "execution_count": 7,
     "metadata": {},
     "output_type": "execute_result"
    }
   ],
   "source": [
    "# delta = 0.05\n",
    "# p = 0.6\n",
    "# batch = 15\n",
    "alpha_list"
   ]
  },
  {
   "cell_type": "code",
   "execution_count": null,
   "id": "3156b37d",
   "metadata": {},
   "outputs": [],
   "source": []
  },
  {
   "cell_type": "code",
   "execution_count": 7,
   "id": "01795fbe",
   "metadata": {},
   "outputs": [
    {
     "data": {
      "text/plain": [
       "[1.9943753571714917,\n",
       " 1.9950639854821763,\n",
       " 1.957120456741454,\n",
       " 1.6824819879290065,\n",
       " 0.9494395188129017,\n",
       " 0.875474701010148,\n",
       " 0.9799488114324543,\n",
       " 0.9159566383564083,\n",
       " 0.9186597032047429]"
      ]
     },
     "execution_count": 7,
     "metadata": {},
     "output_type": "execute_result"
    }
   ],
   "source": [
    "# delta = 0.05\n",
    "# p = 0.4\n",
    "# batch = 10\n",
    "alpha_list"
   ]
  },
  {
   "cell_type": "code",
   "execution_count": 9,
   "id": "46521824",
   "metadata": {},
   "outputs": [
    {
     "data": {
      "text/plain": [
       "[2.0001279737440205,\n",
       " 1.9870249576420291,\n",
       " 1.999514874384365,\n",
       " 1.933101370983265,\n",
       " 1.122724610672851,\n",
       " 0.9828353759204994,\n",
       " 0.929100507595582,\n",
       " 0.8913551039301439,\n",
       " 0.9175175543742821]"
      ]
     },
     "execution_count": 9,
     "metadata": {},
     "output_type": "execute_result"
    }
   ],
   "source": [
    "# delta = 0.05\n",
    "# p = 0.3\n",
    "# batch = 10\n",
    "alpha_list"
   ]
  },
  {
   "cell_type": "code",
   "execution_count": 12,
   "id": "3db0e0e4",
   "metadata": {},
   "outputs": [
    {
     "data": {
      "text/plain": [
       "[2.00697100867133,\n",
       " 2.0119853260321996,\n",
       " 1.9933699529453421,\n",
       " 1.9697108011403963,\n",
       " 1.317389505426751,\n",
       " 1.1324853754127113,\n",
       " 1.041015666486291,\n",
       " 1.00491468812273,\n",
       " 0.9520538288573255]"
      ]
     },
     "execution_count": 12,
     "metadata": {},
     "output_type": "execute_result"
    }
   ],
   "source": [
    "# delta = 0.05\n",
    "# p = 0.2\n",
    "# batch = 10\n",
    "alpha_list"
   ]
  },
  {
   "cell_type": "code",
   "execution_count": 14,
   "id": "2fedc2fa",
   "metadata": {},
   "outputs": [
    {
     "data": {
      "text/plain": [
       "[2.0051916622602155,\n",
       " 1.9945705662745892,\n",
       " 2.00490379217264,\n",
       " 1.9827209049411674,\n",
       " 1.4387004358208177,\n",
       " 1.268236660419093,\n",
       " 1.1531935022655535,\n",
       " 1.086057667565457,\n",
       " 1.0137602967847332]"
      ]
     },
     "execution_count": 14,
     "metadata": {},
     "output_type": "execute_result"
    }
   ],
   "source": [
    "# delta = 0.05\n",
    "# p = 0.1\n",
    "# batch = 10\n",
    "alpha_list"
   ]
  },
  {
   "cell_type": "code",
   "execution_count": 16,
   "id": "0f73ff63",
   "metadata": {},
   "outputs": [
    {
     "data": {
      "text/plain": [
       "[1.9988285504412928,\n",
       " 2.0010328841064706,\n",
       " 2.0091861275393095,\n",
       " 1.9870029968082032,\n",
       " 1.5465389233210884,\n",
       " 1.3788900217096625,\n",
       " 1.252981598305959,\n",
       " 1.1940963626417411,\n",
       " 1.1024873141084652]"
      ]
     },
     "execution_count": 16,
     "metadata": {},
     "output_type": "execute_result"
    }
   ],
   "source": [
    "# delta = 0.05\n",
    "# p = 0\n",
    "# batch = 10\n",
    "alpha_list"
   ]
  },
  {
   "cell_type": "code",
   "execution_count": 18,
   "id": "d2adc628",
   "metadata": {},
   "outputs": [
    {
     "data": {
      "text/plain": [
       "[1.9963563423857555,\n",
       " 2.0039873314793,\n",
       " 2.001286985447247,\n",
       " 1.9957829668936526,\n",
       " 1.5398887595079216,\n",
       " 1.3530620599289807,\n",
       " 1.26730458591317,\n",
       " 1.1873361180797293,\n",
       " 1.1073351651498942]"
      ]
     },
     "execution_count": 18,
     "metadata": {},
     "output_type": "execute_result"
    }
   ],
   "source": [
    "# delta = 0.05\n",
    "# p = 1\n",
    "# batch = 10\n",
    "alpha_list"
   ]
  },
  {
   "cell_type": "code",
   "execution_count": null,
   "id": "ee45c46a",
   "metadata": {},
   "outputs": [],
   "source": []
  }
 ],
 "metadata": {
  "kernelspec": {
   "display_name": "Python 3 (ipykernel)",
   "language": "python",
   "name": "python3"
  },
  "language_info": {
   "codemirror_mode": {
    "name": "ipython",
    "version": 3
   },
   "file_extension": ".py",
   "mimetype": "text/x-python",
   "name": "python",
   "nbconvert_exporter": "python",
   "pygments_lexer": "ipython3",
   "version": "3.10.12"
  }
 },
 "nbformat": 4,
 "nbformat_minor": 5
}
