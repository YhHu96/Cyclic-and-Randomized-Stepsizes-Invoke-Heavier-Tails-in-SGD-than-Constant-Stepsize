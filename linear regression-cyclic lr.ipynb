{
 "cells": [
  {
   "cell_type": "code",
   "execution_count": 1,
   "id": "5924595f",
   "metadata": {},
   "outputs": [],
   "source": [
    "import numpy as np\n",
    "\n",
    "import multiprocessing as mp"
   ]
  },
  {
   "cell_type": "code",
   "execution_count": 2,
   "id": "cd5c88c8",
   "metadata": {},
   "outputs": [],
   "source": [
    "# def alpha_estimator(m, X):\n",
    "#     N = len(X)\n",
    "#     n = int(N/m) # must be an integer\n",
    "#     Y = np.sum(X.reshape(n, m),1)\n",
    "#     eps = np.spacing(1)\n",
    "\n",
    "#     Y_log_norm =  np.log(np.abs(Y) + eps).mean()\n",
    "#     X_log_norm =  np.log(np.abs(X) + eps).mean()\n",
    "#     diff = (Y_log_norm - X_log_norm) / np.log(m)\n",
    "#     return 1 / diff\n",
    "\n",
    "# def hill_estimator(X,k):\n",
    "#     X = np.log(np.abs(X)) #assuming symmetric\n",
    "#     Xs = np.sort(X)\n",
    "#     term1 = np.mean(Xs[-(k+1):])\n",
    "#     term2 = Xs[k]\n",
    "#     return 1/(term1-term2)"
   ]
  },
  {
   "cell_type": "code",
   "execution_count": 3,
   "id": "4a3961c1",
   "metadata": {},
   "outputs": [],
   "source": [
    "# Corollary 2.4 in Mohammadi 2014 - for multi-d\n",
    "def alpha_estimator(m, X):\n",
    "    # X is N by d matrix\n",
    "    N = len(X)\n",
    "    n = int(N/m) # must be an integer\n",
    "    Y = np.sum(X.reshape((n, m, -1)), 1)\n",
    "    eps = np.spacing(1)\n",
    "    Y_log_norm = np.log(np.linalg.norm(Y, axis=1) + eps).mean()\n",
    "    X_log_norm = np.log(np.linalg.norm(X, axis=1) + eps).mean()\n",
    "    diff = (Y_log_norm - X_log_norm) / np.log(m)\n",
    "    return 1/diff"
   ]
  },
  {
   "cell_type": "code",
   "execution_count": 4,
   "id": "19cace1d",
   "metadata": {},
   "outputs": [],
   "source": [
    "# number of data points\n",
    "n = 10000\n",
    "# dimension of x\n",
    "d = 100\n",
    "# batch size\n",
    "batch = 10\n",
    "\n",
    "sig_w = 3\n",
    "sig_x = 1\n",
    "sig_y = 3\n",
    "\n",
    "# std_noise = 3\n",
    "w = np.random.normal(0,3,d)\n",
    "# w = sig_w * np.random.randn(d,1)\n",
    "X = sig_x * np.random.randn(n,d)\n",
    "Y = X@w.reshape(-1,1) + sig_y * np.random.randn(n,1)"
   ]
  },
  {
   "cell_type": "code",
   "execution_count": 5,
   "id": "d99a90c6",
   "metadata": {},
   "outputs": [
    {
     "data": {
      "text/plain": [
       "array([[0.49913832]])"
      ]
     },
     "execution_count": 5,
     "metadata": {},
     "output_type": "execute_result"
    }
   ],
   "source": [
    "w"
   ]
  },
  {
   "cell_type": "code",
   "execution_count": 24,
   "id": "8147dcac",
   "metadata": {},
   "outputs": [
    {
     "data": {
      "text/plain": [
       "(10,)"
      ]
     },
     "execution_count": 24,
     "metadata": {},
     "output_type": "execute_result"
    }
   ],
   "source": [
    "(np.dot(Xk,w0)).shape"
   ]
  },
  {
   "cell_type": "code",
   "execution_count": 20,
   "id": "151d8db7",
   "metadata": {},
   "outputs": [
    {
     "data": {
      "text/plain": [
       "array([[1553.28688832, 1599.83429978, 1552.4751576 , 1653.06332266,\n",
       "        1608.00416658, 1413.40637158, 1441.95281649, 1348.91756913,\n",
       "        1668.96388044, 1545.73517396]])"
      ]
     },
     "execution_count": 20,
     "metadata": {},
     "output_type": "execute_result"
    }
   ],
   "source": [
    "np.dot(np.transpose(Xk), (Yk-np.dot(Xk,w0)))"
   ]
  },
  {
   "cell_type": "code",
   "execution_count": 5,
   "id": "7e20ca6a",
   "metadata": {},
   "outputs": [],
   "source": [
    "def loss_batch(w,X,Y,batch):\n",
    "    idx = np.random.randint(Y.shape[0], size = batch)\n",
    "    X1 = X[idx,:]\n",
    "    Y1 = Y[idx,:]\n",
    "    loss = np.sum(np.square(X1@w -Y1))/(2*batch)\n",
    "    return loss\n",
    "\n",
    "def loss(w,X,Y):\n",
    "    loss = np.sum(np.square(np.dot(X,w) -Y))/(2*X.shape[0])\n",
    "    return loss\n",
    "\n",
    "def linearreg(d,X,Y,K,stepsize,batch,w_star):\n",
    "    loss_list = []\n",
    "    w_list = []\n",
    "    \n",
    "    w0 = np.random.uniform(-3,3,d)\n",
    "    w_list.append(w0)\n",
    "    loss_list.append(loss_batch(w0,X,Y,batch))\n",
    "    \n",
    "    for k in range(K):\n",
    "        \n",
    "        idx = np.random.randint(Y.shape[0], size = batch)\n",
    "        Xk = X[idx,:]\n",
    "        Yk = Y[idx,:]\n",
    "        w = w_list[-1].reshape(-1,1) - stepsize / batch * (Xk.T @ (Xk @ w_list[-1].reshape(-1,1) - Yk))\n",
    "        w_list.append(w.reshape(-1))\n",
    "        \n",
    "        loss_list.append(loss_batch(w,X,Y,batch))\n",
    "        \n",
    "    w_list = np.array(w_list)\n",
    "    loss_list = np.array(loss_list)\n",
    "    \n",
    "    w_mean = np.mean(w_list[-500:], axis = 0)\n",
    "    \n",
    "    return w_mean\n",
    "\n",
    "def linearreg_unif(d,X,Y,K,base_lr,max_lr,batch,w_star):\n",
    "    loss_list = []\n",
    "    w_list = []\n",
    "    \n",
    "    w0 =np.random.uniform(-3,3,d)\n",
    "    w_list.append(w0)\n",
    "    loss_list.append(loss_batch(w0,X,Y,batch))\n",
    "    \n",
    "    for k in range(K):\n",
    "        \n",
    "        stepsize = np.random.uniform(low=base_lr, high=max_lr)\n",
    "        idx = np.random.randint(Y.shape[0], size = batch)\n",
    "        Xk = X[idx,:]\n",
    "        Yk = Y[idx,:]\n",
    "#         temp = Xk @ w_list[-1].reshape(-1,1) - Yk\n",
    "#         temp = Xk.T @ temp\n",
    "#         print(temp.shape)\n",
    "        \n",
    "        w = w_list[-1].reshape(-1,1) - stepsize / batch * (Xk.T @ (Xk @ w_list[-1].reshape(-1,1) - Yk))\n",
    "#         print((Xk @ w_list[-1].reshape(-1,1) )shape)\n",
    "        w_list.append(w.reshape(-1))\n",
    "        \n",
    "        loss_list.append(loss_batch(w,X,Y,batch))\n",
    "        \n",
    "    w_list = np.array(w_list)\n",
    "    loss_list = np.array(loss_list)\n",
    "    \n",
    "    w_mean = np.mean(w_list[-500:], axis = 0)\n",
    "    w_final = w_list[-1] - w_star\n",
    "    \n",
    "    return w_mean, w_final, loss_list\n",
    "\n",
    "def linearreg_cyc(d,X,Y,K,base_lr,max_lr,stepsize,batch,w_star):\n",
    "    loss_list = []\n",
    "    w_list = []\n",
    "    \n",
    "    w0 =np.random.uniform(-3,3,d)\n",
    "    w_list.append(w0)\n",
    "    loss_list.append(loss_batch(w0,X,Y,batch))\n",
    "    \n",
    "    for k in range(K):\n",
    "        \n",
    "        cycle = np.floor(1 + (k+1) / (2*stepsize))\n",
    "        loc = np.abs((k+1) / stepsize - 2*cycle +1)\n",
    "        lr = base_lr + (max_lr - base_lr) * max(0,(1-loc))\n",
    "#         print(lr)\n",
    "        \n",
    "        idx = np.random.randint(Y.shape[0], size = batch)\n",
    "        Xk = X[idx,:]\n",
    "        Yk = Y[idx,:]\n",
    "        w = w_list[-1].reshape(-1,1) - lr / batch * (Xk.T @ (Xk @ w_list[-1].reshape(-1,1) - Yk))\n",
    "        w_list.append(w.reshape(-1))\n",
    "        \n",
    "        loss_list.append(loss_batch(w,X,Y,batch))\n",
    "        \n",
    "    w_list = np.array(w_list)\n",
    "    loss_list = np.array(loss_list)\n",
    "    \n",
    "    w_mean = np.mean(w_list[-500:], axis = 0)\n",
    "    w_final = w_list[-1] - w_star\n",
    "    \n",
    "    return w_mean, w_final\n",
    "\n",
    "def linearreg_mc(d,X,Y,K,base_lr,max_lr,p,stepsize,batch,w_star):\n",
    "    loss_list = []\n",
    "    w_list = []\n",
    "    \n",
    "    onestep = (max_lr-base_lr)/stepsize\n",
    "    \n",
    "    w0 = np.random.uniform(-3,3,d)\n",
    "    w_list.append(w0)\n",
    "    loss_list.append(loss_batch(w0,X,Y,batch))\n",
    "#     lr_list=[]\n",
    "    \n",
    "    for k in range(K):\n",
    "        \n",
    "        if k == 0:\n",
    "            lr = base_lr\n",
    "        elif k == 1:\n",
    "            lr = base_lr + onestep\n",
    "        else:\n",
    "            if lr <= base_lr:\n",
    "                p = max(p, 1-p)\n",
    "                lr = base_lr + onestep\n",
    "            elif lr >= max_lr:\n",
    "                p = min(p,1-p)\n",
    "                lr = max_lr - onestep\n",
    "            else:\n",
    "                temp = np.random.uniform(0,1)\n",
    "                if temp <= p:\n",
    "                    lr = min(max_lr, lr+onestep)\n",
    "                else:\n",
    "                    lr = max(base_lr, lr-onestep)\n",
    "#         lr_list.append(lr)\n",
    "        idx = np.random.randint(Y.shape[0], size = batch)\n",
    "        Xk = X[idx,:]\n",
    "        Yk = Y[idx,:]\n",
    "        w = w_list[-1].reshape(-1,1) - lr / batch * (Xk.T @ (Xk @ w_list[-1].reshape(-1,1) - Yk))\n",
    "        w_list.append(w.reshape(-1))\n",
    "        \n",
    "        loss_list.append(loss_batch(w,X,Y,batch))\n",
    "        \n",
    "    w_list = np.array(w_list)\n",
    "    loss_list = np.array(loss_list)\n",
    "    \n",
    "    w_mean = np.mean(w_list[-500:], axis = 0)\n",
    "    w_final = w_list[-1] - w_star\n",
    "    \n",
    "    return w_mean, w_final#, lr_list\n",
    "\n",
    "def ideal_sol(X,Y):\n",
    "    temp = np.dot(np.transpose(X), X)\n",
    "    temp = np.linalg.inv(temp)\n",
    "    temp = np.dot(temp, np.transpose(X))\n",
    "    temp = np.dot(temp, Y)\n",
    "    return temp"
   ]
  },
  {
   "cell_type": "code",
   "execution_count": 6,
   "id": "e7822937",
   "metadata": {},
   "outputs": [],
   "source": [
    "# cyclic lr\n",
    "\n",
    "# base_lr = [1]\n",
    "d = 100\n",
    "K = 1000\n",
    "T = 10000\n",
    "mean_lr = [0.14,0.15,0.16,0.17,0.18,0.19,0.2,0.21,0.22]\n",
    "delta = 0.05\n",
    "stepsize = 10\n",
    "batch = 15\n",
    "alpha_list = []\n",
    "w_star = ideal_sol(X,Y)\n",
    "\n",
    "# pool = mp.Pool(mp.cpu_count())\n",
    "\n",
    "for mean in mean_lr:\n",
    "    random_vec = []\n",
    "    \n",
    "    for t in range(T):\n",
    "        diff, _ = linearreg_cyc(d, X, Y, K, mean - delta, mean + delta, stepsize, batch, w_star)\n",
    "#         diff = w - w_star\n",
    "        random_vec.append(diff)\n",
    "#         diff_list.append(diff)\n",
    "    \n",
    "#     random_vec = [pool.apply(linearreg_unif, args=(1,X,Y,K,base,max_lr,batch,w_star)) for t in range(T)]\n",
    "    \n",
    "    \n",
    "    random_vec = np.array(random_vec)\n",
    "    data = np.array(random_vec - np.mean(random_vec, axis = 0))\n",
    "    alpha_list.append(alpha_estimator(100,data))\n",
    "    \n",
    "# pool.close()"
   ]
  },
  {
   "cell_type": "markdown",
   "id": "6b333e6e",
   "metadata": {},
   "source": [
    "### batch = 10"
   ]
  },
  {
   "cell_type": "code",
   "execution_count": 9,
   "id": "bba1e710",
   "metadata": {},
   "outputs": [
    {
     "data": {
      "text/plain": [
       "[1.9991720893978229,\n",
       " 2.011298303694093,\n",
       " 2.0008479594466153,\n",
       " 1.9874978527323601,\n",
       " 1.5428267534633262,\n",
       " 1.3720664714152018,\n",
       " 1.269155771649106,\n",
       " 1.1805871763417242,\n",
       " 1.0950724369206228]"
      ]
     },
     "execution_count": 9,
     "metadata": {},
     "output_type": "execute_result"
    }
   ],
   "source": [
    "# delta = 0.05\n",
    "alpha_list"
   ]
  },
  {
   "cell_type": "code",
   "execution_count": 11,
   "id": "89f78394",
   "metadata": {},
   "outputs": [
    {
     "data": {
      "text/plain": [
       "[2.010257077015096,\n",
       " 1.9959846996481365,\n",
       " 1.9969430626601021,\n",
       " 2.0066238209404803,\n",
       " 1.6394994794382476,\n",
       " 1.411773549362355,\n",
       " 1.2847618578441176,\n",
       " 1.194561979482453,\n",
       " 1.1292451612829693]"
      ]
     },
     "execution_count": 11,
     "metadata": {},
     "output_type": "execute_result"
    }
   ],
   "source": [
    "# delta = 0.04\n",
    "alpha_list"
   ]
  },
  {
   "cell_type": "code",
   "execution_count": 13,
   "id": "8beb396f",
   "metadata": {},
   "outputs": [
    {
     "data": {
      "text/plain": [
       "[2.016491455379517,\n",
       " 2.0041872085830015,\n",
       " 2.0042979040720605,\n",
       " 2.008191658435959,\n",
       " 1.745028696130977,\n",
       " 1.4325435968283107,\n",
       " 1.3165325322369972,\n",
       " 1.2202257410979607,\n",
       " 1.120917055548965]"
      ]
     },
     "execution_count": 13,
     "metadata": {},
     "output_type": "execute_result"
    }
   ],
   "source": [
    "# delta = 0.03\n",
    "alpha_list"
   ]
  },
  {
   "cell_type": "code",
   "execution_count": 15,
   "id": "2855e9a1",
   "metadata": {},
   "outputs": [
    {
     "data": {
      "text/plain": [
       "[2.000209075470449,\n",
       " 2.007560240609068,\n",
       " 2.012672405698283,\n",
       " 1.9889764183431058,\n",
       " 1.812992803698751,\n",
       " 1.4773446996961004,\n",
       " 1.3431437900133798,\n",
       " 1.2307946095174598,\n",
       " 1.135341374389148]"
      ]
     },
     "execution_count": 15,
     "metadata": {},
     "output_type": "execute_result"
    }
   ],
   "source": [
    "# delta = 0.02\n",
    "alpha_list"
   ]
  },
  {
   "cell_type": "markdown",
   "id": "37fb554e",
   "metadata": {},
   "source": [
    "### batch = 5"
   ]
  },
  {
   "cell_type": "code",
   "execution_count": 6,
   "id": "12bc570c",
   "metadata": {},
   "outputs": [
    {
     "data": {
      "text/plain": [
       "[0.959532605578557,\n",
       " 0.9289879996308373,\n",
       " 0.8703290561227857,\n",
       " 0.8811398512176276,\n",
       " 0.9908603951566133,\n",
       " 0.9651772562390792,\n",
       " 0.9565810347940601,\n",
       " 0.9372771075289897,\n",
       " 0.8873461148806024]"
      ]
     },
     "execution_count": 6,
     "metadata": {},
     "output_type": "execute_result"
    }
   ],
   "source": [
    "# delta = 0.05\n",
    "alpha_list"
   ]
  },
  {
   "cell_type": "code",
   "execution_count": 8,
   "id": "8a84be1a",
   "metadata": {},
   "outputs": [
    {
     "data": {
      "text/plain": [
       "[0.9773726729049528,\n",
       " 0.9825678512204077,\n",
       " 0.9700978916122925,\n",
       " 0.9836473631496422,\n",
       " nan,\n",
       " nan,\n",
       " nan,\n",
       " nan,\n",
       " nan]"
      ]
     },
     "execution_count": 8,
     "metadata": {},
     "output_type": "execute_result"
    }
   ],
   "source": [
    "# delta = 0.05\n",
    "# batcl = 2\n",
    "alpha_list"
   ]
  },
  {
   "cell_type": "code",
   "execution_count": 10,
   "id": "f9bd4201",
   "metadata": {},
   "outputs": [
    {
     "data": {
      "text/plain": [
       "[1.3954468822681436,\n",
       " 1.2920632144781692,\n",
       " 1.161125644300706,\n",
       " 1.0791494555255483,\n",
       " 0.9878826752653216,\n",
       " 0.9550900680831578,\n",
       " 0.9284114637828675,\n",
       " 0.8752488157381402,\n",
       " 0.8986744000965463]"
      ]
     },
     "execution_count": 10,
     "metadata": {},
     "output_type": "execute_result"
    }
   ],
   "source": [
    "# batch = 7\n",
    "# delta = 0.05\n",
    "alpha_list"
   ]
  },
  {
   "cell_type": "code",
   "execution_count": 7,
   "id": "4b4e93c1",
   "metadata": {},
   "outputs": [
    {
     "data": {
      "text/plain": [
       "[2.003486981030688,\n",
       " 1.9938059261214678,\n",
       " 1.997572033406242,\n",
       " 2.0001903070494245,\n",
       " 2.006773515199711,\n",
       " 2.0006186334523184,\n",
       " 2.01266844327256,\n",
       " 2.009809967978872,\n",
       " 2.0119033679985248]"
      ]
     },
     "execution_count": 7,
     "metadata": {},
     "output_type": "execute_result"
    }
   ],
   "source": [
    "# batch = 15\n",
    "# delta = 0.05\n",
    "alpha_list"
   ]
  },
  {
   "cell_type": "code",
   "execution_count": null,
   "id": "7294c49a",
   "metadata": {},
   "outputs": [],
   "source": []
  }
 ],
 "metadata": {
  "kernelspec": {
   "display_name": "Python 3 (ipykernel)",
   "language": "python",
   "name": "python3"
  },
  "language_info": {
   "codemirror_mode": {
    "name": "ipython",
    "version": 3
   },
   "file_extension": ".py",
   "mimetype": "text/x-python",
   "name": "python",
   "nbconvert_exporter": "python",
   "pygments_lexer": "ipython3",
   "version": "3.10.12"
  }
 },
 "nbformat": 4,
 "nbformat_minor": 5
}
